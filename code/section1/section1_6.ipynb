{
 "cells": [
  {
   "cell_type": "markdown",
   "metadata": {
    "colab_type": "text",
    "id": "MSr5dw3jy0Py"
   },
   "source": [
    "# Mastering PyTorch\n",
    "\n",
    "## Supervised learning\n",
    "\n",
    "### Use Google Collab\n",
    "\n",
    "#### Accompanying notebook to Video 1.6"
   ]
  },
  {
   "cell_type": "code",
   "execution_count": 0,
   "metadata": {
    "colab": {
     "autoexec": {
      "startup": false,
      "wait_interval": 0
     }
    },
    "colab_type": "code",
    "collapsed": true,
    "id": "MtmZbJ_0y5Ge"
   },
   "outputs": [],
   "source": [
    "# Install Pytorch and torchvision\n",
    "from os import path\n",
    "from wheel.pep425tags import get_abbr_impl, get_impl_ver, get_abi_tag\n",
    "platform = '{}{}-{}'.format(get_abbr_impl(), get_impl_ver(), get_abi_tag())\n",
    "\n",
    "accelerator = 'cu80' if path.exists('/opt/bin/nvidia-smi') else 'cpu'\n",
    "\n",
    "!pip3 install -q http://download.pytorch.org/whl/{accelerator}/torch-0.3.0.post4-{platform}-linux_x86_64.whl torchvision"
   ]
  },
  {
   "cell_type": "code",
   "execution_count": 0,
   "metadata": {
    "colab": {
     "autoexec": {
      "startup": false,
      "wait_interval": 0
     }
    },
    "colab_type": "code",
    "collapsed": true,
    "id": "sCS6IbDfy0P6"
   },
   "outputs": [],
   "source": [
    "# Include libraries\n",
    "\n",
    "import numpy as np\n",
    "import PIL\n",
    "from PIL import Image\n",
    "\n",
    "import os\n",
    "import random\n",
    "\n",
    "import torch\n",
    "import torch.nn as nn\n",
    "import torch.optim as optim\n",
    "import torch.nn.functional as F\n",
    "from torch.utils.data import Dataset, DataLoader\n",
    "from torch.autograd import Variable\n",
    "\n",
    "from torchvision import transforms\n",
    "import torchvision.transforms.functional as TF\n",
    "\n",
    "from sklearn.model_selection import train_test_split\n",
    "\n",
    "import matplotlib.pyplot as plt\n",
    "%matplotlib inline"
   ]
  },
  {
   "cell_type": "code",
   "execution_count": 0,
   "metadata": {
    "colab": {
     "autoexec": {
      "startup": false,
      "wait_interval": 0
     }
    },
    "colab_type": "code",
    "collapsed": true,
    "id": "z1P-NCN-VBiC"
   },
   "outputs": [],
   "source": [
    "# Fix Pillow error for loading .TIFF images\n",
    "def register_extension(id, extension):\n",
    "    PIL.Image.EXTENSION[extension.lower()] = id.upper()\n",
    "PIL.Image.register_extension = register_extension\n",
    "def register_extensions(id, extensions):\n",
    "    for extension in extensions:\n",
    "        register_extension(id, extension)\n",
    "PIL.Image.register_extensions = register_extensions"
   ]
  },
  {
   "cell_type": "code",
   "execution_count": 0,
   "metadata": {
    "colab": {
     "autoexec": {
      "startup": false,
      "wait_interval": 0
     }
    },
    "colab_type": "code",
    "collapsed": true,
    "id": "dWU6SQltzO9W"
   },
   "outputs": [],
   "source": [
    "# Utils.py\n",
    "\n",
    "import re\n",
    "import os\n",
    "import errno\n",
    "\n",
    "from sklearn.model_selection import train_test_split\n",
    "\n",
    "SEED=2809\n",
    "\n",
    "\n",
    "def get_image_id(image_name):\n",
    "    '''\n",
    "    Returns the image id regardless of the smoothing factor.\n",
    "    '''\n",
    "    pattern = '_\\w{1}(\\d+_C\\d+)_F\\d+_(s\\d+)'\n",
    "    match = re.findall(pattern, image_name)\n",
    "    image_id = '_'.join(match[0])\n",
    "    return image_id\n",
    "\n",
    "\n",
    "def get_image_name(image_path):\n",
    "    '''\n",
    "    Returns the image name given the path\n",
    "    '''\n",
    "    image_name = image_path.split('/')[-1].split('.')[0]\n",
    "    return image_name\n",
    "\n",
    "def get_number_of_cells(image_name):\n",
    "    '''\n",
    "    Returns the number of cells for the current image.\n",
    "    '''\n",
    "    pattern = '\\w+_\\w+\\d+_C(\\d+)_'\n",
    "    nb_cells = int(re.findall(pattern, image_name)[0])\n",
    "    return nb_cells\n",
    "\n",
    "def split_data(image_paths, target_paths):\n",
    "    '''\n",
    "    Splits the data into a training and a validation set.\n",
    "    '''\n",
    "    nb_cells = [get_number_of_cells(im_path) for im_path in image_paths]\n",
    "    im_path_train, im_path_val, tar_path_train, tar_path_val = train_test_split(\n",
    "        image_paths,\n",
    "        target_paths,\n",
    "        test_size=0.1,\n",
    "        random_state=SEED,\n",
    "        stratify=nb_cells)\n",
    "\n",
    "    return im_path_train, im_path_val, tar_path_train, tar_path_val\n",
    "\n",
    "def download_data(root='./'):\n",
    "    '''\n",
    "    Downloads the BBBC005 dataset from: \n",
    "    https://data.broadinstitute.org/bbbc/BBBC005/\n",
    "    '''\n",
    "    from six.moves import urllib\n",
    "    import zipfile\n",
    "\n",
    "    folder = os.path.expanduser('data')\n",
    "    data_url = 'https://data.broadinstitute.org/bbbc/BBBC005/BBBC005_v1_images.zip'\n",
    "    target_url = 'https://data.broadinstitute.org/bbbc/BBBC005/BBBC005_v1_ground_truth.zip'\n",
    "\n",
    "    data_folder = data_url.split('/')[-1].replace('.zip', '')\n",
    "    target_folder = target_url.split('/')[-1].replace('.zip', '')\n",
    "\n",
    "    if os.path.exists(os.path.join(root, folder)):\n",
    "        return\n",
    "\n",
    "    # Download dataset if it doesn't exist already\n",
    "    try:\n",
    "        os.makedirs(os.path.join(root, folder))\n",
    "        os.makedirs(os.path.join(root, folder, data_folder))\n",
    "        os.makedirs(os.path.join(root, folder, target_folder))\n",
    "    except OSError as e:\n",
    "        if e.errno == errno.EEXIST:\n",
    "            pass\n",
    "        else:\n",
    "            raise\n",
    "\n",
    "    print('Downloading ' + data_url)\n",
    "    data = urllib.request.urlopen(data_url)\n",
    "    filename = data_url.rpartition('/')[2]\n",
    "    file_path = os.path.join(root, folder, filename)\n",
    "    with open(file_path, 'wb') as f:\n",
    "        f.write(data.read())\n",
    "    with zipfile.ZipFile(file_path, 'r') as zip_f:\n",
    "        zip_f.extractall(os.path.join(root, folder))\n",
    "    os.unlink(file_path)\n",
    "\n",
    "    print('Downloading ' + target_url)\n",
    "    data = urllib.request.urlopen(target_url)\n",
    "    filename = target_url.rpartition('/')[2]\n",
    "    file_path = os.path.join(root, folder, filename)\n",
    "    with open(file_path, 'wb') as f:\n",
    "        f.write(data.read())\n",
    "    with zipfile.ZipFile(file_path, 'r') as zip_f:\n",
    "        for name in zip_f.namelist():\n",
    "            if name.startswith('BBBC005_v1_ground_truth/'):\n",
    "                zip_f.extract(name, os.path.join(root, folder))\n",
    "    os.unlink(file_path)"
   ]
  },
  {
   "cell_type": "code",
   "execution_count": 0,
   "metadata": {
    "colab": {
     "autoexec": {
      "startup": false,
      "wait_interval": 0
     },
     "base_uri": "https://localhost:8080/",
     "height": 34,
     "output_extras": [
      {
       "item_id": 1
      }
     ]
    },
    "colab_type": "code",
    "collapsed": false,
    "id": "X0u6SozJy0QW",
    "outputId": "d1590b03-c423-46ea-cc95-2f93fe2b056b"
   },
   "outputs": [
    {
     "name": "stdout",
     "output_type": "stream",
     "text": [
      "Downloading https://data.broadinstitute.org/bbbc/BBBC005/BBBC005_v1_images.zip\n"
     ]
    }
   ],
   "source": [
    "root = './'\n",
    "download_data(root=root)"
   ]
  },
  {
   "cell_type": "code",
   "execution_count": 21,
   "metadata": {
    "colab": {
     "autoexec": {
      "startup": false,
      "wait_interval": 0
     },
     "base_uri": "https://localhost:8080/",
     "height": 208,
     "output_extras": [
      {
       "item_id": 7
      }
     ]
    },
    "colab_type": "code",
    "collapsed": false,
    "executionInfo": {
     "elapsed": 1802,
     "status": "ok",
     "timestamp": 1521639684774,
     "user": {
      "displayName": "Piotr Bialecki",
      "photoUrl": "https://lh3.googleusercontent.com/a/default-user=s128",
      "userId": "111001492818559627356"
     },
     "user_tz": -60
    },
    "id": "USrl18RDtDpc",
    "outputId": "dafa0113-1e2f-4d24-9db5-f251c5c70771"
   },
   "outputs": [
    {
     "name": "stdout",
     "output_type": "stream",
     "text": [
      "--2018-03-21 13:41:23--  http://pbialecki.de/mastering_pytorch/data_paths.txt\n",
      "Resolving pbialecki.de (pbialecki.de)... 85.13.138.170\n",
      "Connecting to pbialecki.de (pbialecki.de)|85.13.138.170|:80... connected.\n",
      "HTTP request sent, awaiting response... 200 OK\n",
      "Length: 1187800 (1.1M) [text/plain]\n",
      "Saving to: ‘data_paths.txt’\n",
      "\n",
      "data_paths.txt      100%[===================>]   1.13M  1.58MB/s    in 0.7s    \n",
      "\n",
      "2018-03-21 13:41:24 (1.58 MB/s) - ‘data_paths.txt’ saved [1187800/1187800]\n",
      "\n"
     ]
    }
   ],
   "source": [
    "data_paths = os.path.join('./', 'data_paths.txt')\n",
    "if not os.path.exists(data_paths):\n",
    "  !wget http://pbialecki.de/mastering_pytorch/data_paths.txt\n",
    "\n",
    "if not os.path.isfile(data_paths):\n",
    "    print('data_paths.txt missing!')"
   ]
  },
  {
   "cell_type": "code",
   "execution_count": 10,
   "metadata": {
    "colab": {
     "autoexec": {
      "startup": false,
      "wait_interval": 0
     },
     "base_uri": "https://localhost:8080/",
     "height": 34,
     "output_extras": [
      {
       "item_id": 1
      }
     ]
    },
    "colab_type": "code",
    "collapsed": false,
    "executionInfo": {
     "elapsed": 474,
     "status": "ok",
     "timestamp": 1521639626934,
     "user": {
      "displayName": "Piotr Bialecki",
      "photoUrl": "https://lh3.googleusercontent.com/a/default-user=s128",
      "userId": "111001492818559627356"
     },
     "user_tz": -60
    },
    "id": "le75S2HVy0Qo",
    "outputId": "7d8dc50f-c531-4e21-b31b-d6614447cbac"
   },
   "outputs": [
    {
     "name": "stdout",
     "output_type": "stream",
     "text": [
      "Using: Tesla K80\n"
     ]
    }
   ],
   "source": [
    "# Setup Globals\n",
    "use_cuda = torch.cuda.is_available()\n",
    "np.random.seed(SEED)\n",
    "torch.manual_seed(SEED)\n",
    "if use_cuda:\n",
    "    torch.cuda.manual_seed(SEED)\n",
    "    print('Using: {}'.format(torch.cuda.get_device_name(0)))\n",
    "print_steps = 10"
   ]
  },
  {
   "cell_type": "code",
   "execution_count": 0,
   "metadata": {
    "colab": {
     "autoexec": {
      "startup": false,
      "wait_interval": 0
     }
    },
    "colab_type": "code",
    "collapsed": true,
    "id": "15kulLU7y0Q-"
   },
   "outputs": [],
   "source": [
    "# Utility functions\n",
    "def weights_init(m):\n",
    "    '''\n",
    "    Initialize the weights of each Conv2d layer using xavier_uniform\n",
    "    (\"Understanding the difficulty of training deep feedforward\n",
    "    neural networks\" - Glorot, X. & Bengio, Y. (2010))\n",
    "    '''\n",
    "    if isinstance(m, nn.Conv2d):\n",
    "        nn.init.xavier_uniform(m.weight.data)\n",
    "        m.bias.data.zero_()\n",
    "    if isinstance(m, nn.ConvTranspose2d):\n",
    "        nn.init.xavier_uniform(m.weight.data)\n",
    "        m.bias.data.zero_()\n",
    "\n",
    "def dice_loss(y_target, y_pred, smooth=0.0):\n",
    "    '''\n",
    "    Create dice loss as (1 - dice coeff)\n",
    "    '''\n",
    "    y_target = y_target.view(-1)\n",
    "    y_pred = y_pred.view(-1)\n",
    "    intersection = (y_target * y_pred).sum()\n",
    "    dice_coef = (2. * intersection + smooth) / (\n",
    "        y_target.sum() + y_pred.sum() + smooth)\n",
    "    return 1. - dice_coef"
   ]
  },
  {
   "cell_type": "code",
   "execution_count": 0,
   "metadata": {
    "colab": {
     "autoexec": {
      "startup": false,
      "wait_interval": 0
     }
    },
    "colab_type": "code",
    "collapsed": true,
    "id": "YS9iozi_y0RG"
   },
   "outputs": [],
   "source": [
    "class CellDataset(Dataset):\n",
    "    def __init__(self, image_paths, target_paths, size, train=False):\n",
    "        self.image_paths = image_paths\n",
    "        self.target_paths = target_paths\n",
    "        self.size = size\n",
    "        resize_size = [s+10 for s in self.size]\n",
    "        self.resize_image = transforms.Resize(\n",
    "            size=resize_size, interpolation=Image.BILINEAR)\n",
    "        self.resize_mask = transforms.Resize(\n",
    "            size=resize_size, interpolation=Image.NEAREST)\n",
    "        self.train = train\n",
    "        \n",
    "    def transform(self, image, mask):\n",
    "        # Resize\n",
    "        image = self.resize_image(image)\n",
    "        mask = self.resize_mask(mask)\n",
    "        \n",
    "        # Perform data augmentation\n",
    "        if self.train:            \n",
    "            # Random cropping\n",
    "            i, j, h, w = transforms.RandomCrop.get_params(\n",
    "                image, output_size=self.size)\n",
    "            image = TF.crop(image, i, j, h, w)\n",
    "            mask = TF.crop(mask, i, j, h, w)\n",
    "            \n",
    "            # Random horizontal flipping\n",
    "            if random.random() > 0.5:\n",
    "                image = TF.hflip(image)\n",
    "                mask = TF.hflip(mask)\n",
    "            \n",
    "            # Random vertical flipping\n",
    "            if random.random() > 0.5:\n",
    "                image = TF.vflip(image)\n",
    "                mask = TF.vflip(mask)\n",
    "        else:\n",
    "            center_crop = transforms.CenterCrop(self.size)\n",
    "            image = center_crop(image)\n",
    "            mask = center_crop(mask)\n",
    "        \n",
    "        # Transform to tensor\n",
    "        image = TF.to_tensor(image)\n",
    "        mask = TF.to_tensor(mask)\n",
    "        return image, mask\n",
    "\n",
    "    def __getitem__(self, index):\n",
    "        image = Image.open(self.image_paths[index])\n",
    "        mask = Image.open(self.target_paths[index])\n",
    "        x, y = self.transform(image, mask)\n",
    "        return x, y\n",
    "\n",
    "    def __len__(self):\n",
    "        return len(self.image_paths)"
   ]
  },
  {
   "cell_type": "code",
   "execution_count": 0,
   "metadata": {
    "colab": {
     "autoexec": {
      "startup": false,
      "wait_interval": 0
     }
    },
    "colab_type": "code",
    "collapsed": true,
    "id": "GDlm77n2y0RQ"
   },
   "outputs": [],
   "source": [
    "def get_random_sample(dataset):\n",
    "    '''\n",
    "    Get a random sample from the specified dataset.\n",
    "    '''\n",
    "    data, target = dataset[int(np.random.choice(len(dataset), 1))]\n",
    "    data.unsqueeze_(0)\n",
    "    target.unsqueeze_(0)\n",
    "    if use_cuda:\n",
    "        data = data.cuda()\n",
    "        target = target.cuda()\n",
    "    data = Variable(data)\n",
    "    target = Variable(target)\n",
    "    return data, target"
   ]
  },
  {
   "cell_type": "code",
   "execution_count": 0,
   "metadata": {
    "colab": {
     "autoexec": {
      "startup": false,
      "wait_interval": 0
     }
    },
    "colab_type": "code",
    "collapsed": true,
    "id": "IO4zriu_y0Ra"
   },
   "outputs": [],
   "source": [
    "class BaseConv(nn.Module):\n",
    "    def __init__(self, in_channels, out_channels, kernel_size, padding,\n",
    "                 stride):\n",
    "        super(BaseConv, self).__init__()\n",
    "\n",
    "        self.act = nn.ReLU()\n",
    "\n",
    "        self.conv1 = nn.Conv2d(in_channels, out_channels, kernel_size, padding,\n",
    "                               stride)\n",
    "\n",
    "        self.conv2 = nn.Conv2d(out_channels, out_channels, kernel_size,\n",
    "                               padding, stride)\n",
    "        \n",
    "        self.downsample = None\n",
    "        if in_channels != out_channels:\n",
    "            self.downsample = nn.Sequential(\n",
    "                nn.Conv2d(\n",
    "                    in_channels, out_channels, kernel_size, padding, stride)\n",
    "            )\n",
    "\n",
    "    def forward(self, x):\n",
    "        residual = x\n",
    "        out = self.act(self.conv1(x))\n",
    "        out = self.conv2(out)\n",
    "        \n",
    "        if self.downsample:\n",
    "            residual = self.downsample(x)\n",
    "        out += residual\n",
    "        out = self.act(out)\n",
    "        return out"
   ]
  },
  {
   "cell_type": "code",
   "execution_count": 0,
   "metadata": {
    "colab": {
     "autoexec": {
      "startup": false,
      "wait_interval": 0
     }
    },
    "colab_type": "code",
    "collapsed": true,
    "id": "olZ0ReK3y0Ro"
   },
   "outputs": [],
   "source": [
    "class DownConv(nn.Module):\n",
    "    def __init__(self, in_channels, out_channels, kernel_size, padding,\n",
    "                 stride):\n",
    "        super(DownConv, self).__init__()\n",
    "\n",
    "        self.pool1 = nn.MaxPool2d(kernel_size=2)\n",
    "        self.conv_block = BaseConv(in_channels, out_channels, kernel_size,\n",
    "                                   padding, stride)\n",
    "\n",
    "    def forward(self, x):\n",
    "        x = self.pool1(x)\n",
    "        x = self.conv_block(x)\n",
    "        return x"
   ]
  },
  {
   "cell_type": "code",
   "execution_count": 0,
   "metadata": {
    "colab": {
     "autoexec": {
      "startup": false,
      "wait_interval": 0
     }
    },
    "colab_type": "code",
    "collapsed": true,
    "id": "yx5141mey0Ry"
   },
   "outputs": [],
   "source": [
    "class UpConv(nn.Module):\n",
    "    def __init__(self, in_channels, in_channels_skip, out_channels,\n",
    "                 kernel_size, padding, stride):\n",
    "        super(UpConv, self).__init__()\n",
    "\n",
    "        self.conv_trans1 = nn.ConvTranspose2d(\n",
    "            in_channels, in_channels, kernel_size=2, padding=0, stride=2)\n",
    "        self.conv_block = BaseConv(\n",
    "            in_channels=in_channels + in_channels_skip,\n",
    "            out_channels=out_channels,\n",
    "            kernel_size=kernel_size,\n",
    "            padding=padding,\n",
    "            stride=stride)\n",
    "\n",
    "    def forward(self, x, x_skip):\n",
    "        x = self.conv_trans1(x)\n",
    "        x = torch.cat((x, x_skip), dim=1)\n",
    "        x = self.conv_block(x)\n",
    "        return x"
   ]
  },
  {
   "cell_type": "code",
   "execution_count": 0,
   "metadata": {
    "colab": {
     "autoexec": {
      "startup": false,
      "wait_interval": 0
     }
    },
    "colab_type": "code",
    "collapsed": true,
    "id": "QUmvg7vwy0SI"
   },
   "outputs": [],
   "source": [
    "class ResUNet(nn.Module):\n",
    "    def __init__(self, in_channels, out_channels, kernel_size, padding,\n",
    "                 stride):\n",
    "        super(ResUNet, self).__init__()\n",
    "\n",
    "        self.init_conv = BaseConv(in_channels, out_channels, kernel_size, padding, stride)\n",
    "\n",
    "        self.down1 = DownConv(out_channels, 2 * out_channels, kernel_size,\n",
    "                              padding, stride)\n",
    "\n",
    "        self.down2 = DownConv(2 * out_channels, 4 * out_channels, kernel_size,\n",
    "                              padding, stride)\n",
    "\n",
    "        self.down3 = DownConv(4 * out_channels, 8 * out_channels, kernel_size,\n",
    "                              padding, stride)\n",
    "\n",
    "        self.up3 = UpConv(8 * out_channels, 4 * out_channels, 4 * out_channels,\n",
    "                          kernel_size, padding, stride)\n",
    "\n",
    "        self.up2 = UpConv(4 * out_channels, 2 * out_channels, 2 * out_channels,\n",
    "                          kernel_size, padding, stride)\n",
    "\n",
    "        self.up1 = UpConv(2 * out_channels, out_channels, out_channels,\n",
    "                          kernel_size, padding, stride)\n",
    "\n",
    "        self.out = nn.Conv2d(out_channels, 1, kernel_size, padding, stride)\n",
    "\n",
    "    def forward(self, x):\n",
    "        # Encoder\n",
    "        x = self.init_conv(x)\n",
    "        x1 = self.down1(x)\n",
    "        x2 = self.down2(x1)\n",
    "        x3 = self.down3(x2)\n",
    "        # Decoder\n",
    "        x_up = self.up3(x3, x2)\n",
    "        x_up = self.up2(x_up, x1)\n",
    "        x_up = self.up1(x_up, x)\n",
    "        x_out = F.sigmoid(self.out(x_up))\n",
    "        return x_out"
   ]
  },
  {
   "cell_type": "code",
   "execution_count": 0,
   "metadata": {
    "colab": {
     "autoexec": {
      "startup": false,
      "wait_interval": 0
     }
    },
    "colab_type": "code",
    "collapsed": true,
    "id": "A5sS52xLy0SW"
   },
   "outputs": [],
   "source": [
    "def train(epoch):\n",
    "    '''\n",
    "    Main training loop\n",
    "    '''\n",
    "    # Set model to train mode\n",
    "    model.train()\n",
    "    # Iterate training set\n",
    "    for batch_idx, (data, mask) in enumerate(train_loader):\n",
    "        if use_cuda:\n",
    "            data = data.cuda()\n",
    "            mask = mask.cuda()\n",
    "        data = Variable(data)\n",
    "        mask = Variable(mask.squeeze())\n",
    "        optimizer.zero_grad()\n",
    "        output = model(data)\n",
    "        loss_mask = criterion(output.squeeze(), mask)\n",
    "        loss_dice = dice_loss(mask, output.squeeze())\n",
    "        loss = loss_mask + loss_dice\n",
    "        loss.backward()\n",
    "        optimizer.step()\n",
    "        \n",
    "        if batch_idx % print_steps == 0:\n",
    "            loss_mask_data = loss_mask.data[0]\n",
    "            loss_dice_data = loss_dice.data[0]\n",
    "            train_losses.append(loss_mask_data)\n",
    "            print(\n",
    "                'Train Epoch: {} [{}/{} ({:.0f}%)]\\tLoss: {:.6f}\\tLoss(dice): {:.6f}'.\n",
    "                format(epoch, batch_idx * len(data),\n",
    "                       len(train_loader.dataset), 100. * batch_idx / len(\n",
    "                           train_loader), loss_mask_data, loss_dice_data))"
   ]
  },
  {
   "cell_type": "code",
   "execution_count": 0,
   "metadata": {
    "colab": {
     "autoexec": {
      "startup": false,
      "wait_interval": 0
     }
    },
    "colab_type": "code",
    "collapsed": true,
    "id": "dug2F7n5y0Sk"
   },
   "outputs": [],
   "source": [
    "def validate():\n",
    "    '''\n",
    "    Validation loop\n",
    "    '''\n",
    "    # Set model to eval mode\n",
    "    model.eval()\n",
    "    # Setup val_loss\n",
    "    val_mask_loss = 0\n",
    "    val_dice_loss = 0\n",
    "    # Iterate validation set\n",
    "    for data, mask in val_loader:\n",
    "        if use_cuda:\n",
    "            data = data.cuda()\n",
    "            mask = mask.cuda()\n",
    "        data = Variable(data)\n",
    "        mask = Variable(mask.squeeze())\n",
    "        output = model(data)\n",
    "        val_mask_loss += F.binary_cross_entropy(output.squeeze(), mask).data[0]\n",
    "        val_dice_loss += dice_loss(mask, output.squeeze()).data[0]\n",
    "    # Calculate mean of validation loss\n",
    "    val_mask_loss /= len(val_loader)\n",
    "    val_dice_loss /= len(val_loader)\n",
    "    val_losses.append(val_mask_loss)\n",
    "    print('Validation\\tLoss: {:.6f}\\tLoss(dice): {:.6f}'.format(val_mask_loss, val_dice_loss))"
   ]
  },
  {
   "cell_type": "code",
   "execution_count": 0,
   "metadata": {
    "colab": {
     "autoexec": {
      "startup": false,
      "wait_interval": 0
     }
    },
    "colab_type": "code",
    "collapsed": true,
    "id": "Bv9OEp_uy0Sw"
   },
   "outputs": [],
   "source": [
    "# Get train data folders and split to training / validation set\n",
    "with open(data_paths, 'r') as f:\n",
    "    data_paths = f.readlines()\n",
    "image_paths = [line.split(',')[0].strip() for line in data_paths]\n",
    "target_paths = [line.split(',')[1].strip() for line in data_paths]\n",
    "\n",
    "# Split data into train/validation datasets\n",
    "im_path_train, im_path_val, tar_path_train, tar_path_val = split_data(\n",
    "    image_paths, target_paths)"
   ]
  },
  {
   "cell_type": "code",
   "execution_count": 0,
   "metadata": {
    "colab": {
     "autoexec": {
      "startup": false,
      "wait_interval": 0
     }
    },
    "colab_type": "code",
    "collapsed": true,
    "id": "7SU3e2wRy0S6"
   },
   "outputs": [],
   "source": [
    "# Create datasets\n",
    "train_dataset = CellDataset(\n",
    "    image_paths=im_path_train,\n",
    "    target_paths=tar_path_train,\n",
    "    size=(96, 96),\n",
    "    train=True\n",
    ")\n",
    "val_dataset = CellDataset(\n",
    "    image_paths=im_path_val,\n",
    "    target_paths=tar_path_val,\n",
    "    size=(96, 96),\n",
    "    train=False\n",
    ")\n",
    "\n",
    "# Wrap in DataLoader\n",
    "train_loader = DataLoader(\n",
    "    dataset=train_dataset,\n",
    "    batch_size=8,\n",
    "    num_workers=2,\n",
    "    shuffle=True\n",
    ")\n",
    "val_loader = DataLoader(\n",
    "    dataset=val_dataset,\n",
    "    batch_size=16,\n",
    "    num_workers=2,\n",
    "    shuffle=True\n",
    ")"
   ]
  },
  {
   "cell_type": "code",
   "execution_count": 0,
   "metadata": {
    "colab": {
     "autoexec": {
      "startup": false,
      "wait_interval": 0
     }
    },
    "colab_type": "code",
    "collapsed": true,
    "id": "i1S7OL-Cy0TE"
   },
   "outputs": [],
   "source": [
    "# Creae model\n",
    "model = ResUNet(\n",
    "    in_channels=1, out_channels=32, kernel_size=3, padding=1, stride=1)\n",
    "# Initialize weights\n",
    "model.apply(weights_init)\n",
    "# Push to GPU, if available\n",
    "if use_cuda:\n",
    "    model.cuda()"
   ]
  },
  {
   "cell_type": "code",
   "execution_count": 0,
   "metadata": {
    "colab": {
     "autoexec": {
      "startup": false,
      "wait_interval": 0
     }
    },
    "colab_type": "code",
    "collapsed": true,
    "id": "8nWShK8gy0TQ"
   },
   "outputs": [],
   "source": [
    "# Create optimizer and scheduler\n",
    "optimizer = optim.SGD(model.parameters(), lr=1e-3)\n",
    "# Create criterion\n",
    "criterion = nn.BCELoss()"
   ]
  },
  {
   "cell_type": "code",
   "execution_count": 36,
   "metadata": {
    "colab": {
     "autoexec": {
      "startup": false,
      "wait_interval": 0
     },
     "base_uri": "https://localhost:8080/",
     "height": 7589,
     "output_extras": [
      {
       "item_id": 53
      },
      {
       "item_id": 106
      },
      {
       "item_id": 159
      },
      {
       "item_id": 212
      },
      {
       "item_id": 265
      },
      {
       "item_id": 318
      },
      {
       "item_id": 371
      },
      {
       "item_id": 424
      },
      {
       "item_id": 436
      }
     ]
    },
    "colab_type": "code",
    "collapsed": false,
    "executionInfo": {
     "elapsed": 622056,
     "status": "ok",
     "timestamp": 1521641356346,
     "user": {
      "displayName": "Piotr Bialecki",
      "photoUrl": "https://lh3.googleusercontent.com/a/default-user=s128",
      "userId": "111001492818559627356"
     },
     "user_tz": -60
    },
    "id": "xryFmLcHy0Tq",
    "outputId": "dcb0a5c2-1263-4a5f-f47a-aa4c609332c9"
   },
   "outputs": [
    {
     "name": "stdout",
     "output_type": "stream",
     "text": [
      "Train Epoch: 1 [0/8640 (0%)]\tLoss: 0.702258\tLoss(dice): 0.602736\n",
      "Train Epoch: 1 [80/8640 (1%)]\tLoss: 0.701498\tLoss(dice): 0.599087\n",
      "Train Epoch: 1 [160/8640 (2%)]\tLoss: 0.699725\tLoss(dice): 0.568432\n",
      "Train Epoch: 1 [240/8640 (3%)]\tLoss: 0.697057\tLoss(dice): 0.605334\n",
      "Train Epoch: 1 [320/8640 (4%)]\tLoss: 0.695516\tLoss(dice): 0.585005\n",
      "Train Epoch: 1 [400/8640 (5%)]\tLoss: 0.693100\tLoss(dice): 0.633839\n",
      "Train Epoch: 1 [480/8640 (6%)]\tLoss: 0.691910\tLoss(dice): 0.589626\n",
      "Train Epoch: 1 [560/8640 (6%)]\tLoss: 0.690261\tLoss(dice): 0.536708\n",
      "Train Epoch: 1 [640/8640 (7%)]\tLoss: 0.687364\tLoss(dice): 0.633480\n",
      "Train Epoch: 1 [720/8640 (8%)]\tLoss: 0.685043\tLoss(dice): 0.540559\n",
      "Train Epoch: 1 [800/8640 (9%)]\tLoss: 0.683249\tLoss(dice): 0.561119\n",
      "Train Epoch: 1 [880/8640 (10%)]\tLoss: 0.681925\tLoss(dice): 0.598801\n",
      "Train Epoch: 1 [960/8640 (11%)]\tLoss: 0.678270\tLoss(dice): 0.536332\n",
      "Train Epoch: 1 [1040/8640 (12%)]\tLoss: 0.675442\tLoss(dice): 0.525535\n",
      "Train Epoch: 1 [1120/8640 (13%)]\tLoss: 0.674458\tLoss(dice): 0.632213\n",
      "Train Epoch: 1 [1200/8640 (14%)]\tLoss: 0.672910\tLoss(dice): 0.550946\n",
      "Train Epoch: 1 [1280/8640 (15%)]\tLoss: 0.670423\tLoss(dice): 0.585281\n",
      "Train Epoch: 1 [1360/8640 (16%)]\tLoss: 0.667390\tLoss(dice): 0.559575\n",
      "Train Epoch: 1 [1440/8640 (17%)]\tLoss: 0.666416\tLoss(dice): 0.579078\n",
      "Train Epoch: 1 [1520/8640 (18%)]\tLoss: 0.664324\tLoss(dice): 0.550753\n",
      "Train Epoch: 1 [1600/8640 (19%)]\tLoss: 0.660222\tLoss(dice): 0.554221\n",
      "Train Epoch: 1 [1680/8640 (19%)]\tLoss: 0.661554\tLoss(dice): 0.574137\n",
      "Train Epoch: 1 [1760/8640 (20%)]\tLoss: 0.656593\tLoss(dice): 0.579387\n",
      "Train Epoch: 1 [1840/8640 (21%)]\tLoss: 0.653961\tLoss(dice): 0.516424\n",
      "Train Epoch: 1 [1920/8640 (22%)]\tLoss: 0.653617\tLoss(dice): 0.599078\n",
      "Train Epoch: 1 [2000/8640 (23%)]\tLoss: 0.650143\tLoss(dice): 0.550409\n",
      "Train Epoch: 1 [2080/8640 (24%)]\tLoss: 0.641515\tLoss(dice): 0.485132\n",
      "Train Epoch: 1 [2160/8640 (25%)]\tLoss: 0.648455\tLoss(dice): 0.628864\n",
      "Train Epoch: 1 [2240/8640 (26%)]\tLoss: 0.642890\tLoss(dice): 0.570388\n",
      "Train Epoch: 1 [2320/8640 (27%)]\tLoss: 0.629489\tLoss(dice): 0.457831\n",
      "Train Epoch: 1 [2400/8640 (28%)]\tLoss: 0.644087\tLoss(dice): 0.671718\n",
      "Train Epoch: 1 [2480/8640 (29%)]\tLoss: 0.633891\tLoss(dice): 0.506610\n",
      "Train Epoch: 1 [2560/8640 (30%)]\tLoss: 0.625138\tLoss(dice): 0.483020\n",
      "Train Epoch: 1 [2640/8640 (31%)]\tLoss: 0.621826\tLoss(dice): 0.466694\n",
      "Train Epoch: 1 [2720/8640 (31%)]\tLoss: 0.623737\tLoss(dice): 0.564299\n",
      "Train Epoch: 1 [2800/8640 (32%)]\tLoss: 0.615753\tLoss(dice): 0.480717\n",
      "Train Epoch: 1 [2880/8640 (33%)]\tLoss: 0.617731\tLoss(dice): 0.488262\n",
      "Train Epoch: 1 [2960/8640 (34%)]\tLoss: 0.613307\tLoss(dice): 0.537070\n",
      "Train Epoch: 1 [3040/8640 (35%)]\tLoss: 0.607487\tLoss(dice): 0.511034\n",
      "Train Epoch: 1 [3120/8640 (36%)]\tLoss: 0.610195\tLoss(dice): 0.600317\n",
      "Train Epoch: 1 [3200/8640 (37%)]\tLoss: 0.599738\tLoss(dice): 0.502844\n",
      "Train Epoch: 1 [3280/8640 (38%)]\tLoss: 0.583678\tLoss(dice): 0.427933\n",
      "Train Epoch: 1 [3360/8640 (39%)]\tLoss: 0.603154\tLoss(dice): 0.567710\n",
      "Train Epoch: 1 [3440/8640 (40%)]\tLoss: 0.583910\tLoss(dice): 0.472078\n",
      "Train Epoch: 1 [3520/8640 (41%)]\tLoss: 0.585937\tLoss(dice): 0.522377\n",
      "Train Epoch: 1 [3600/8640 (42%)]\tLoss: 0.554002\tLoss(dice): 0.389166\n",
      "Train Epoch: 1 [3680/8640 (43%)]\tLoss: 0.570735\tLoss(dice): 0.491010\n",
      "Train Epoch: 1 [3760/8640 (44%)]\tLoss: 0.553769\tLoss(dice): 0.424464\n",
      "Train Epoch: 1 [3840/8640 (44%)]\tLoss: 0.566286\tLoss(dice): 0.480968\n",
      "Train Epoch: 1 [3920/8640 (45%)]\tLoss: 0.564138\tLoss(dice): 0.496649\n",
      "Train Epoch: 1 [4000/8640 (46%)]\tLoss: 0.568197\tLoss(dice): 0.578859\n",
      "Train Epoch: 1 [4080/8640 (47%)]\tLoss: 0.541544\tLoss(dice): 0.423754\n",
      "Train Epoch: 1 [4160/8640 (48%)]\tLoss: 0.548341\tLoss(dice): 0.483917\n",
      "Train Epoch: 1 [4240/8640 (49%)]\tLoss: 0.533129\tLoss(dice): 0.403657\n",
      "Train Epoch: 1 [4320/8640 (50%)]\tLoss: 0.550334\tLoss(dice): 0.544937\n",
      "Train Epoch: 1 [4400/8640 (51%)]\tLoss: 0.528325\tLoss(dice): 0.420530\n",
      "Train Epoch: 1 [4480/8640 (52%)]\tLoss: 0.493596\tLoss(dice): 0.347564\n",
      "Train Epoch: 1 [4560/8640 (53%)]\tLoss: 0.525156\tLoss(dice): 0.492111\n",
      "Train Epoch: 1 [4640/8640 (54%)]\tLoss: 0.512830\tLoss(dice): 0.460518\n",
      "Train Epoch: 1 [4720/8640 (55%)]\tLoss: 0.496800\tLoss(dice): 0.376267\n",
      "Train Epoch: 1 [4800/8640 (56%)]\tLoss: 0.482029\tLoss(dice): 0.328511\n",
      "Train Epoch: 1 [4880/8640 (56%)]\tLoss: 0.504997\tLoss(dice): 0.549534\n",
      "Train Epoch: 1 [4960/8640 (57%)]\tLoss: 0.472849\tLoss(dice): 0.337174\n",
      "Train Epoch: 1 [5040/8640 (58%)]\tLoss: 0.474535\tLoss(dice): 0.352733\n",
      "Train Epoch: 1 [5120/8640 (59%)]\tLoss: 0.484820\tLoss(dice): 0.382854\n",
      "Train Epoch: 1 [5200/8640 (60%)]\tLoss: 0.460847\tLoss(dice): 0.323088\n",
      "Train Epoch: 1 [5280/8640 (61%)]\tLoss: 0.462946\tLoss(dice): 0.412551\n",
      "Train Epoch: 1 [5360/8640 (62%)]\tLoss: 0.469773\tLoss(dice): 0.365530\n",
      "Train Epoch: 1 [5440/8640 (63%)]\tLoss: 0.446041\tLoss(dice): 0.365889\n",
      "Train Epoch: 1 [5520/8640 (64%)]\tLoss: 0.457834\tLoss(dice): 0.527072\n",
      "Train Epoch: 1 [5600/8640 (65%)]\tLoss: 0.442703\tLoss(dice): 0.375474\n",
      "Train Epoch: 1 [5680/8640 (66%)]\tLoss: 0.436330\tLoss(dice): 0.445451\n",
      "Train Epoch: 1 [5760/8640 (67%)]\tLoss: 0.431421\tLoss(dice): 0.385973\n",
      "Train Epoch: 1 [5840/8640 (68%)]\tLoss: 0.424695\tLoss(dice): 0.481804\n",
      "Train Epoch: 1 [5920/8640 (69%)]\tLoss: 0.400669\tLoss(dice): 0.311782\n",
      "Train Epoch: 1 [6000/8640 (69%)]\tLoss: 0.414153\tLoss(dice): 0.314279\n",
      "Train Epoch: 1 [6080/8640 (70%)]\tLoss: 0.400037\tLoss(dice): 0.322698\n",
      "Train Epoch: 1 [6160/8640 (71%)]\tLoss: 0.384640\tLoss(dice): 0.321942\n",
      "Train Epoch: 1 [6240/8640 (72%)]\tLoss: 0.380427\tLoss(dice): 0.317239\n",
      "Train Epoch: 1 [6320/8640 (73%)]\tLoss: 0.372144\tLoss(dice): 0.480896\n",
      "Train Epoch: 1 [6400/8640 (74%)]\tLoss: 0.370861\tLoss(dice): 0.352317\n",
      "Train Epoch: 1 [6480/8640 (75%)]\tLoss: 0.357716\tLoss(dice): 0.330745\n",
      "Train Epoch: 1 [6560/8640 (76%)]\tLoss: 0.360637\tLoss(dice): 0.353958\n",
      "Train Epoch: 1 [6640/8640 (77%)]\tLoss: 0.353701\tLoss(dice): 0.362321\n",
      "Train Epoch: 1 [6720/8640 (78%)]\tLoss: 0.338222\tLoss(dice): 0.353723\n",
      "Train Epoch: 1 [6800/8640 (79%)]\tLoss: 0.329888\tLoss(dice): 0.317578\n",
      "Train Epoch: 1 [6880/8640 (80%)]\tLoss: 0.311319\tLoss(dice): 0.279208\n",
      "Train Epoch: 1 [6960/8640 (81%)]\tLoss: 0.331007\tLoss(dice): 0.279048\n",
      "Train Epoch: 1 [7040/8640 (81%)]\tLoss: 0.313679\tLoss(dice): 0.317346\n",
      "Train Epoch: 1 [7120/8640 (82%)]\tLoss: 0.308478\tLoss(dice): 0.228331\n",
      "Train Epoch: 1 [7200/8640 (83%)]\tLoss: 0.309560\tLoss(dice): 0.234666\n",
      "Train Epoch: 1 [7280/8640 (84%)]\tLoss: 0.282859\tLoss(dice): 0.336449\n",
      "Train Epoch: 1 [7360/8640 (85%)]\tLoss: 0.267055\tLoss(dice): 0.305879\n",
      "Train Epoch: 1 [7440/8640 (86%)]\tLoss: 0.255150\tLoss(dice): 0.346032\n",
      "Train Epoch: 1 [7520/8640 (87%)]\tLoss: 0.272196\tLoss(dice): 0.283656\n",
      "Train Epoch: 1 [7600/8640 (88%)]\tLoss: 0.266144\tLoss(dice): 0.239092\n",
      "Train Epoch: 1 [7680/8640 (89%)]\tLoss: 0.286650\tLoss(dice): 0.214217\n",
      "Train Epoch: 1 [7760/8640 (90%)]\tLoss: 0.255138\tLoss(dice): 0.237518\n",
      "Train Epoch: 1 [7840/8640 (91%)]\tLoss: 0.255616\tLoss(dice): 0.247722\n",
      "Train Epoch: 1 [7920/8640 (92%)]\tLoss: 0.250707\tLoss(dice): 0.211583\n",
      "Train Epoch: 1 [8000/8640 (93%)]\tLoss: 0.253680\tLoss(dice): 0.231149\n",
      "Train Epoch: 1 [8080/8640 (94%)]\tLoss: 0.227866\tLoss(dice): 0.212390\n",
      "Train Epoch: 1 [8160/8640 (94%)]\tLoss: 0.235305\tLoss(dice): 0.197780\n",
      "Train Epoch: 1 [8240/8640 (95%)]\tLoss: 0.226711\tLoss(dice): 0.237120\n",
      "Train Epoch: 1 [8320/8640 (96%)]\tLoss: 0.196382\tLoss(dice): 0.225425\n",
      "Train Epoch: 1 [8400/8640 (97%)]\tLoss: 0.217222\tLoss(dice): 0.210558\n",
      "Train Epoch: 1 [8480/8640 (98%)]\tLoss: 0.203226\tLoss(dice): 0.177818\n",
      "Train Epoch: 1 [8560/8640 (99%)]\tLoss: 0.191487\tLoss(dice): 0.198241\n",
      "Validation\tLoss: 0.198083\tLoss(dice): 0.196926\n",
      "Train Epoch: 2 [0/8640 (0%)]\tLoss: 0.214951\tLoss(dice): 0.201088\n",
      "Train Epoch: 2 [80/8640 (1%)]\tLoss: 0.181940\tLoss(dice): 0.195077\n",
      "Train Epoch: 2 [160/8640 (2%)]\tLoss: 0.167742\tLoss(dice): 0.201373\n",
      "Train Epoch: 2 [240/8640 (3%)]\tLoss: 0.188884\tLoss(dice): 0.213315\n",
      "Train Epoch: 2 [320/8640 (4%)]\tLoss: 0.157227\tLoss(dice): 0.217425\n",
      "Train Epoch: 2 [400/8640 (5%)]\tLoss: 0.164094\tLoss(dice): 0.195312\n",
      "Train Epoch: 2 [480/8640 (6%)]\tLoss: 0.176256\tLoss(dice): 0.177602\n",
      "Train Epoch: 2 [560/8640 (6%)]\tLoss: 0.154782\tLoss(dice): 0.164369\n",
      "Train Epoch: 2 [640/8640 (7%)]\tLoss: 0.174489\tLoss(dice): 0.148113\n",
      "Train Epoch: 2 [720/8640 (8%)]\tLoss: 0.160974\tLoss(dice): 0.180251\n",
      "Train Epoch: 2 [800/8640 (9%)]\tLoss: 0.177828\tLoss(dice): 0.147288\n",
      "Train Epoch: 2 [880/8640 (10%)]\tLoss: 0.147469\tLoss(dice): 0.155638\n",
      "Train Epoch: 2 [960/8640 (11%)]\tLoss: 0.162405\tLoss(dice): 0.161954\n",
      "Train Epoch: 2 [1040/8640 (12%)]\tLoss: 0.174116\tLoss(dice): 0.156395\n",
      "Train Epoch: 2 [1120/8640 (13%)]\tLoss: 0.163116\tLoss(dice): 0.137068\n",
      "Train Epoch: 2 [1200/8640 (14%)]\tLoss: 0.183063\tLoss(dice): 0.137773\n",
      "Train Epoch: 2 [1280/8640 (15%)]\tLoss: 0.144515\tLoss(dice): 0.127569\n",
      "Train Epoch: 2 [1360/8640 (16%)]\tLoss: 0.145319\tLoss(dice): 0.157654\n",
      "Train Epoch: 2 [1440/8640 (17%)]\tLoss: 0.153044\tLoss(dice): 0.143142\n",
      "Train Epoch: 2 [1520/8640 (18%)]\tLoss: 0.148779\tLoss(dice): 0.144459\n",
      "Train Epoch: 2 [1600/8640 (19%)]\tLoss: 0.156820\tLoss(dice): 0.134250\n",
      "Train Epoch: 2 [1680/8640 (19%)]\tLoss: 0.111352\tLoss(dice): 0.185719\n",
      "Train Epoch: 2 [1760/8640 (20%)]\tLoss: 0.151847\tLoss(dice): 0.152272\n",
      "Train Epoch: 2 [1840/8640 (21%)]\tLoss: 0.156966\tLoss(dice): 0.146747\n",
      "Train Epoch: 2 [1920/8640 (22%)]\tLoss: 0.156327\tLoss(dice): 0.117328\n",
      "Train Epoch: 2 [2000/8640 (23%)]\tLoss: 0.119627\tLoss(dice): 0.127197\n",
      "Train Epoch: 2 [2080/8640 (24%)]\tLoss: 0.127427\tLoss(dice): 0.137563\n",
      "Train Epoch: 2 [2160/8640 (25%)]\tLoss: 0.150662\tLoss(dice): 0.116412\n",
      "Train Epoch: 2 [2240/8640 (26%)]\tLoss: 0.116762\tLoss(dice): 0.130639\n",
      "Train Epoch: 2 [2320/8640 (27%)]\tLoss: 0.106110\tLoss(dice): 0.124511\n",
      "Train Epoch: 2 [2400/8640 (28%)]\tLoss: 0.160011\tLoss(dice): 0.113001\n",
      "Train Epoch: 2 [2480/8640 (29%)]\tLoss: 0.135014\tLoss(dice): 0.130230\n",
      "Train Epoch: 2 [2560/8640 (30%)]\tLoss: 0.138389\tLoss(dice): 0.132247\n",
      "Train Epoch: 2 [2640/8640 (31%)]\tLoss: 0.146208\tLoss(dice): 0.117194\n",
      "Train Epoch: 2 [2720/8640 (31%)]\tLoss: 0.117320\tLoss(dice): 0.131381\n",
      "Train Epoch: 2 [2800/8640 (32%)]\tLoss: 0.133459\tLoss(dice): 0.123173\n",
      "Train Epoch: 2 [2880/8640 (33%)]\tLoss: 0.121337\tLoss(dice): 0.104619\n",
      "Train Epoch: 2 [2960/8640 (34%)]\tLoss: 0.116449\tLoss(dice): 0.128673\n",
      "Train Epoch: 2 [3040/8640 (35%)]\tLoss: 0.110247\tLoss(dice): 0.107099\n",
      "Train Epoch: 2 [3120/8640 (36%)]\tLoss: 0.135313\tLoss(dice): 0.113538\n",
      "Train Epoch: 2 [3200/8640 (37%)]\tLoss: 0.107458\tLoss(dice): 0.123814\n",
      "Train Epoch: 2 [3280/8640 (38%)]\tLoss: 0.101969\tLoss(dice): 0.118168\n",
      "Train Epoch: 2 [3360/8640 (39%)]\tLoss: 0.141263\tLoss(dice): 0.108327\n",
      "Train Epoch: 2 [3440/8640 (40%)]\tLoss: 0.134108\tLoss(dice): 0.121828\n",
      "Train Epoch: 2 [3520/8640 (41%)]\tLoss: 0.110856\tLoss(dice): 0.105744\n",
      "Train Epoch: 2 [3600/8640 (42%)]\tLoss: 0.106960\tLoss(dice): 0.107999\n",
      "Train Epoch: 2 [3680/8640 (43%)]\tLoss: 0.100837\tLoss(dice): 0.107681\n",
      "Train Epoch: 2 [3760/8640 (44%)]\tLoss: 0.162587\tLoss(dice): 0.117674\n",
      "Train Epoch: 2 [3840/8640 (44%)]\tLoss: 0.130195\tLoss(dice): 0.101154\n",
      "Train Epoch: 2 [3920/8640 (45%)]\tLoss: 0.130013\tLoss(dice): 0.107830\n",
      "Train Epoch: 2 [4000/8640 (46%)]\tLoss: 0.129802\tLoss(dice): 0.100756\n",
      "Train Epoch: 2 [4080/8640 (47%)]\tLoss: 0.097255\tLoss(dice): 0.121569\n",
      "Train Epoch: 2 [4160/8640 (48%)]\tLoss: 0.135774\tLoss(dice): 0.099583\n",
      "Train Epoch: 2 [4240/8640 (49%)]\tLoss: 0.118858\tLoss(dice): 0.113280\n",
      "Train Epoch: 2 [4320/8640 (50%)]\tLoss: 0.093971\tLoss(dice): 0.107834\n",
      "Train Epoch: 2 [4400/8640 (51%)]\tLoss: 0.114086\tLoss(dice): 0.105856\n",
      "Train Epoch: 2 [4480/8640 (52%)]\tLoss: 0.098341\tLoss(dice): 0.108322\n",
      "Train Epoch: 2 [4560/8640 (53%)]\tLoss: 0.136711\tLoss(dice): 0.103208\n",
      "Train Epoch: 2 [4640/8640 (54%)]\tLoss: 0.137745\tLoss(dice): 0.095592\n",
      "Train Epoch: 2 [4720/8640 (55%)]\tLoss: 0.120276\tLoss(dice): 0.114784\n",
      "Train Epoch: 2 [4800/8640 (56%)]\tLoss: 0.145920\tLoss(dice): 0.095450\n",
      "Train Epoch: 2 [4880/8640 (56%)]\tLoss: 0.116777\tLoss(dice): 0.112934\n",
      "Train Epoch: 2 [4960/8640 (57%)]\tLoss: 0.129840\tLoss(dice): 0.097054\n",
      "Train Epoch: 2 [5040/8640 (58%)]\tLoss: 0.114194\tLoss(dice): 0.103372\n",
      "Train Epoch: 2 [5120/8640 (59%)]\tLoss: 0.102333\tLoss(dice): 0.104774\n",
      "Train Epoch: 2 [5200/8640 (60%)]\tLoss: 0.151011\tLoss(dice): 0.088153\n",
      "Train Epoch: 2 [5280/8640 (61%)]\tLoss: 0.139148\tLoss(dice): 0.101342\n",
      "Train Epoch: 2 [5360/8640 (62%)]\tLoss: 0.112390\tLoss(dice): 0.105479\n",
      "Train Epoch: 2 [5440/8640 (63%)]\tLoss: 0.153696\tLoss(dice): 0.102314\n",
      "Train Epoch: 2 [5520/8640 (64%)]\tLoss: 0.108245\tLoss(dice): 0.097591\n",
      "Train Epoch: 2 [5600/8640 (65%)]\tLoss: 0.137096\tLoss(dice): 0.098333\n",
      "Train Epoch: 2 [5680/8640 (66%)]\tLoss: 0.111626\tLoss(dice): 0.098130\n",
      "Train Epoch: 2 [5760/8640 (67%)]\tLoss: 0.100926\tLoss(dice): 0.106421\n",
      "Train Epoch: 2 [5840/8640 (68%)]\tLoss: 0.137720\tLoss(dice): 0.101165\n",
      "Train Epoch: 2 [5920/8640 (69%)]\tLoss: 0.087065\tLoss(dice): 0.096206\n",
      "Train Epoch: 2 [6000/8640 (69%)]\tLoss: 0.110719\tLoss(dice): 0.084628\n",
      "Train Epoch: 2 [6080/8640 (70%)]\tLoss: 0.091478\tLoss(dice): 0.085611\n",
      "Train Epoch: 2 [6160/8640 (71%)]\tLoss: 0.113737\tLoss(dice): 0.097528\n",
      "Train Epoch: 2 [6240/8640 (72%)]\tLoss: 0.112056\tLoss(dice): 0.103191\n",
      "Train Epoch: 2 [6320/8640 (73%)]\tLoss: 0.140451\tLoss(dice): 0.091274\n",
      "Train Epoch: 2 [6400/8640 (74%)]\tLoss: 0.154870\tLoss(dice): 0.086085\n",
      "Train Epoch: 2 [6480/8640 (75%)]\tLoss: 0.120141\tLoss(dice): 0.086953\n",
      "Train Epoch: 2 [6560/8640 (76%)]\tLoss: 0.105788\tLoss(dice): 0.110143\n",
      "Train Epoch: 2 [6640/8640 (77%)]\tLoss: 0.115339\tLoss(dice): 0.103894\n",
      "Train Epoch: 2 [6720/8640 (78%)]\tLoss: 0.119186\tLoss(dice): 0.100203\n",
      "Train Epoch: 2 [6800/8640 (79%)]\tLoss: 0.104386\tLoss(dice): 0.114157\n",
      "Train Epoch: 2 [6880/8640 (80%)]\tLoss: 0.109447\tLoss(dice): 0.087172\n",
      "Train Epoch: 2 [6960/8640 (81%)]\tLoss: 0.092346\tLoss(dice): 0.098832\n",
      "Train Epoch: 2 [7040/8640 (81%)]\tLoss: 0.141618\tLoss(dice): 0.089358\n",
      "Train Epoch: 2 [7120/8640 (82%)]\tLoss: 0.138062\tLoss(dice): 0.090056\n",
      "Train Epoch: 2 [7200/8640 (83%)]\tLoss: 0.127804\tLoss(dice): 0.088367\n",
      "Train Epoch: 2 [7280/8640 (84%)]\tLoss: 0.110064\tLoss(dice): 0.097173\n",
      "Train Epoch: 2 [7360/8640 (85%)]\tLoss: 0.061001\tLoss(dice): 0.095597\n",
      "Train Epoch: 2 [7440/8640 (86%)]\tLoss: 0.103385\tLoss(dice): 0.092908\n",
      "Train Epoch: 2 [7520/8640 (87%)]\tLoss: 0.112922\tLoss(dice): 0.092080\n",
      "Train Epoch: 2 [7600/8640 (88%)]\tLoss: 0.098529\tLoss(dice): 0.098085\n",
      "Train Epoch: 2 [7680/8640 (89%)]\tLoss: 0.129545\tLoss(dice): 0.084995\n",
      "Train Epoch: 2 [7760/8640 (90%)]\tLoss: 0.119190\tLoss(dice): 0.092642\n",
      "Train Epoch: 2 [7840/8640 (91%)]\tLoss: 0.128760\tLoss(dice): 0.105021\n",
      "Train Epoch: 2 [7920/8640 (92%)]\tLoss: 0.098474\tLoss(dice): 0.096041\n",
      "Train Epoch: 2 [8000/8640 (93%)]\tLoss: 0.112807\tLoss(dice): 0.083420\n",
      "Train Epoch: 2 [8080/8640 (94%)]\tLoss: 0.147969\tLoss(dice): 0.091447\n",
      "Train Epoch: 2 [8160/8640 (94%)]\tLoss: 0.106694\tLoss(dice): 0.084410\n",
      "Train Epoch: 2 [8240/8640 (95%)]\tLoss: 0.136686\tLoss(dice): 0.080425\n",
      "Train Epoch: 2 [8320/8640 (96%)]\tLoss: 0.108220\tLoss(dice): 0.088000\n",
      "Train Epoch: 2 [8400/8640 (97%)]\tLoss: 0.100967\tLoss(dice): 0.094654\n",
      "Train Epoch: 2 [8480/8640 (98%)]\tLoss: 0.114367\tLoss(dice): 0.100345\n",
      "Train Epoch: 2 [8560/8640 (99%)]\tLoss: 0.138134\tLoss(dice): 0.083573\n",
      "Validation\tLoss: 0.115358\tLoss(dice): 0.091223\n",
      "Train Epoch: 3 [0/8640 (0%)]\tLoss: 0.136546\tLoss(dice): 0.093867\n",
      "Train Epoch: 3 [80/8640 (1%)]\tLoss: 0.125219\tLoss(dice): 0.081772\n",
      "Train Epoch: 3 [160/8640 (2%)]\tLoss: 0.109549\tLoss(dice): 0.089072\n",
      "Train Epoch: 3 [240/8640 (3%)]\tLoss: 0.079998\tLoss(dice): 0.100705\n",
      "Train Epoch: 3 [320/8640 (4%)]\tLoss: 0.132224\tLoss(dice): 0.085987\n",
      "Train Epoch: 3 [400/8640 (5%)]\tLoss: 0.110629\tLoss(dice): 0.087292\n",
      "Train Epoch: 3 [480/8640 (6%)]\tLoss: 0.135260\tLoss(dice): 0.088329\n",
      "Train Epoch: 3 [560/8640 (6%)]\tLoss: 0.080350\tLoss(dice): 0.100395\n",
      "Train Epoch: 3 [640/8640 (7%)]\tLoss: 0.119360\tLoss(dice): 0.077518\n",
      "Train Epoch: 3 [720/8640 (8%)]\tLoss: 0.109016\tLoss(dice): 0.093797\n",
      "Train Epoch: 3 [800/8640 (9%)]\tLoss: 0.116146\tLoss(dice): 0.084861\n",
      "Train Epoch: 3 [880/8640 (10%)]\tLoss: 0.114221\tLoss(dice): 0.092180\n",
      "Train Epoch: 3 [960/8640 (11%)]\tLoss: 0.108938\tLoss(dice): 0.100085\n",
      "Train Epoch: 3 [1040/8640 (12%)]\tLoss: 0.131856\tLoss(dice): 0.091486\n",
      "Train Epoch: 3 [1120/8640 (13%)]\tLoss: 0.125620\tLoss(dice): 0.080514\n",
      "Train Epoch: 3 [1200/8640 (14%)]\tLoss: 0.133963\tLoss(dice): 0.086836\n",
      "Train Epoch: 3 [1280/8640 (15%)]\tLoss: 0.108235\tLoss(dice): 0.091544\n",
      "Train Epoch: 3 [1360/8640 (16%)]\tLoss: 0.108217\tLoss(dice): 0.092717\n",
      "Train Epoch: 3 [1440/8640 (17%)]\tLoss: 0.114674\tLoss(dice): 0.085464\n",
      "Train Epoch: 3 [1520/8640 (18%)]\tLoss: 0.097609\tLoss(dice): 0.092184\n",
      "Train Epoch: 3 [1600/8640 (19%)]\tLoss: 0.084109\tLoss(dice): 0.092924\n",
      "Train Epoch: 3 [1680/8640 (19%)]\tLoss: 0.143459\tLoss(dice): 0.087896\n",
      "Train Epoch: 3 [1760/8640 (20%)]\tLoss: 0.097499\tLoss(dice): 0.091751\n",
      "Train Epoch: 3 [1840/8640 (21%)]\tLoss: 0.093700\tLoss(dice): 0.086096\n",
      "Train Epoch: 3 [1920/8640 (22%)]\tLoss: 0.130891\tLoss(dice): 0.078104\n",
      "Train Epoch: 3 [2000/8640 (23%)]\tLoss: 0.124431\tLoss(dice): 0.090705\n",
      "Train Epoch: 3 [2080/8640 (24%)]\tLoss: 0.114270\tLoss(dice): 0.089529\n",
      "Train Epoch: 3 [2160/8640 (25%)]\tLoss: 0.085483\tLoss(dice): 0.095055\n",
      "Train Epoch: 3 [2240/8640 (26%)]\tLoss: 0.088682\tLoss(dice): 0.080261\n",
      "Train Epoch: 3 [2320/8640 (27%)]\tLoss: 0.157090\tLoss(dice): 0.086433\n",
      "Train Epoch: 3 [2400/8640 (28%)]\tLoss: 0.122881\tLoss(dice): 0.083525\n",
      "Train Epoch: 3 [2480/8640 (29%)]\tLoss: 0.107904\tLoss(dice): 0.091636\n",
      "Train Epoch: 3 [2560/8640 (30%)]\tLoss: 0.092625\tLoss(dice): 0.083014\n",
      "Train Epoch: 3 [2640/8640 (31%)]\tLoss: 0.125183\tLoss(dice): 0.077250\n",
      "Train Epoch: 3 [2720/8640 (31%)]\tLoss: 0.105878\tLoss(dice): 0.084199\n",
      "Train Epoch: 3 [2800/8640 (32%)]\tLoss: 0.137199\tLoss(dice): 0.088387\n",
      "Train Epoch: 3 [2880/8640 (33%)]\tLoss: 0.133421\tLoss(dice): 0.076141\n",
      "Train Epoch: 3 [2960/8640 (34%)]\tLoss: 0.095544\tLoss(dice): 0.077001\n",
      "Train Epoch: 3 [3040/8640 (35%)]\tLoss: 0.117112\tLoss(dice): 0.084341\n",
      "Train Epoch: 3 [3120/8640 (36%)]\tLoss: 0.120408\tLoss(dice): 0.093133\n",
      "Train Epoch: 3 [3200/8640 (37%)]\tLoss: 0.117564\tLoss(dice): 0.087815\n",
      "Train Epoch: 3 [3280/8640 (38%)]\tLoss: 0.086959\tLoss(dice): 0.093120\n",
      "Train Epoch: 3 [3360/8640 (39%)]\tLoss: 0.131634\tLoss(dice): 0.079007\n",
      "Train Epoch: 3 [3440/8640 (40%)]\tLoss: 0.145392\tLoss(dice): 0.080039\n",
      "Train Epoch: 3 [3520/8640 (41%)]\tLoss: 0.101643\tLoss(dice): 0.072356\n",
      "Train Epoch: 3 [3600/8640 (42%)]\tLoss: 0.125992\tLoss(dice): 0.081172\n",
      "Train Epoch: 3 [3680/8640 (43%)]\tLoss: 0.072107\tLoss(dice): 0.093266\n",
      "Train Epoch: 3 [3760/8640 (44%)]\tLoss: 0.104405\tLoss(dice): 0.093336\n",
      "Train Epoch: 3 [3840/8640 (44%)]\tLoss: 0.096072\tLoss(dice): 0.082885\n",
      "Train Epoch: 3 [3920/8640 (45%)]\tLoss: 0.076382\tLoss(dice): 0.084721\n",
      "Train Epoch: 3 [4000/8640 (46%)]\tLoss: 0.118731\tLoss(dice): 0.083634\n",
      "Train Epoch: 3 [4080/8640 (47%)]\tLoss: 0.086484\tLoss(dice): 0.077626\n",
      "Train Epoch: 3 [4160/8640 (48%)]\tLoss: 0.117807\tLoss(dice): 0.081625\n",
      "Train Epoch: 3 [4240/8640 (49%)]\tLoss: 0.073741\tLoss(dice): 0.084790\n",
      "Train Epoch: 3 [4320/8640 (50%)]\tLoss: 0.109632\tLoss(dice): 0.076531\n",
      "Train Epoch: 3 [4400/8640 (51%)]\tLoss: 0.095547\tLoss(dice): 0.086324\n",
      "Train Epoch: 3 [4480/8640 (52%)]\tLoss: 0.108761\tLoss(dice): 0.092779\n",
      "Train Epoch: 3 [4560/8640 (53%)]\tLoss: 0.096743\tLoss(dice): 0.082475\n",
      "Train Epoch: 3 [4640/8640 (54%)]\tLoss: 0.097180\tLoss(dice): 0.085400\n",
      "Train Epoch: 3 [4720/8640 (55%)]\tLoss: 0.116199\tLoss(dice): 0.077170\n",
      "Train Epoch: 3 [4800/8640 (56%)]\tLoss: 0.100636\tLoss(dice): 0.071940\n",
      "Train Epoch: 3 [4880/8640 (56%)]\tLoss: 0.152022\tLoss(dice): 0.068712\n",
      "Train Epoch: 3 [4960/8640 (57%)]\tLoss: 0.118375\tLoss(dice): 0.067773\n",
      "Train Epoch: 3 [5040/8640 (58%)]\tLoss: 0.087567\tLoss(dice): 0.091446\n",
      "Train Epoch: 3 [5120/8640 (59%)]\tLoss: 0.100647\tLoss(dice): 0.081408\n",
      "Train Epoch: 3 [5200/8640 (60%)]\tLoss: 0.082917\tLoss(dice): 0.086081\n",
      "Train Epoch: 3 [5280/8640 (61%)]\tLoss: 0.124563\tLoss(dice): 0.077432\n",
      "Train Epoch: 3 [5360/8640 (62%)]\tLoss: 0.093208\tLoss(dice): 0.084320\n",
      "Train Epoch: 3 [5440/8640 (63%)]\tLoss: 0.081300\tLoss(dice): 0.079939\n",
      "Train Epoch: 3 [5520/8640 (64%)]\tLoss: 0.126831\tLoss(dice): 0.078996\n",
      "Train Epoch: 3 [5600/8640 (65%)]\tLoss: 0.085370\tLoss(dice): 0.088935\n",
      "Train Epoch: 3 [5680/8640 (66%)]\tLoss: 0.128165\tLoss(dice): 0.074744\n",
      "Train Epoch: 3 [5760/8640 (67%)]\tLoss: 0.103793\tLoss(dice): 0.083507\n",
      "Train Epoch: 3 [5840/8640 (68%)]\tLoss: 0.114401\tLoss(dice): 0.076066\n",
      "Train Epoch: 3 [5920/8640 (69%)]\tLoss: 0.070809\tLoss(dice): 0.086155\n",
      "Train Epoch: 3 [6000/8640 (69%)]\tLoss: 0.081935\tLoss(dice): 0.086711\n",
      "Train Epoch: 3 [6080/8640 (70%)]\tLoss: 0.078891\tLoss(dice): 0.079301\n",
      "Train Epoch: 3 [6160/8640 (71%)]\tLoss: 0.092577\tLoss(dice): 0.089188\n",
      "Train Epoch: 3 [6240/8640 (72%)]\tLoss: 0.111041\tLoss(dice): 0.082972\n",
      "Train Epoch: 3 [6320/8640 (73%)]\tLoss: 0.123751\tLoss(dice): 0.077324\n",
      "Train Epoch: 3 [6400/8640 (74%)]\tLoss: 0.114347\tLoss(dice): 0.084251\n",
      "Train Epoch: 3 [6480/8640 (75%)]\tLoss: 0.084320\tLoss(dice): 0.082183\n",
      "Train Epoch: 3 [6560/8640 (76%)]\tLoss: 0.123511\tLoss(dice): 0.086065\n",
      "Train Epoch: 3 [6640/8640 (77%)]\tLoss: 0.081332\tLoss(dice): 0.089232\n",
      "Train Epoch: 3 [6720/8640 (78%)]\tLoss: 0.057546\tLoss(dice): 0.083356\n",
      "Train Epoch: 3 [6800/8640 (79%)]\tLoss: 0.107931\tLoss(dice): 0.083349\n",
      "Train Epoch: 3 [6880/8640 (80%)]\tLoss: 0.103331\tLoss(dice): 0.076658\n",
      "Train Epoch: 3 [6960/8640 (81%)]\tLoss: 0.107633\tLoss(dice): 0.089733\n",
      "Train Epoch: 3 [7040/8640 (81%)]\tLoss: 0.100884\tLoss(dice): 0.099108\n",
      "Train Epoch: 3 [7120/8640 (82%)]\tLoss: 0.089143\tLoss(dice): 0.094003\n",
      "Train Epoch: 3 [7200/8640 (83%)]\tLoss: 0.094854\tLoss(dice): 0.086496\n",
      "Train Epoch: 3 [7280/8640 (84%)]\tLoss: 0.140155\tLoss(dice): 0.079150\n",
      "Train Epoch: 3 [7360/8640 (85%)]\tLoss: 0.124575\tLoss(dice): 0.076144\n",
      "Train Epoch: 3 [7440/8640 (86%)]\tLoss: 0.139651\tLoss(dice): 0.083586\n",
      "Train Epoch: 3 [7520/8640 (87%)]\tLoss: 0.124995\tLoss(dice): 0.079910\n",
      "Train Epoch: 3 [7600/8640 (88%)]\tLoss: 0.093792\tLoss(dice): 0.090245\n",
      "Train Epoch: 3 [7680/8640 (89%)]\tLoss: 0.084038\tLoss(dice): 0.073294\n",
      "Train Epoch: 3 [7760/8640 (90%)]\tLoss: 0.099021\tLoss(dice): 0.081632\n",
      "Train Epoch: 3 [7840/8640 (91%)]\tLoss: 0.116026\tLoss(dice): 0.081960\n",
      "Train Epoch: 3 [7920/8640 (92%)]\tLoss: 0.083376\tLoss(dice): 0.079883\n",
      "Train Epoch: 3 [8000/8640 (93%)]\tLoss: 0.150501\tLoss(dice): 0.080360\n",
      "Train Epoch: 3 [8080/8640 (94%)]\tLoss: 0.136052\tLoss(dice): 0.075580\n",
      "Train Epoch: 3 [8160/8640 (94%)]\tLoss: 0.115559\tLoss(dice): 0.075511\n",
      "Train Epoch: 3 [8240/8640 (95%)]\tLoss: 0.101332\tLoss(dice): 0.077538\n",
      "Train Epoch: 3 [8320/8640 (96%)]\tLoss: 0.054352\tLoss(dice): 0.084134\n",
      "Train Epoch: 3 [8400/8640 (97%)]\tLoss: 0.088296\tLoss(dice): 0.081652\n",
      "Train Epoch: 3 [8480/8640 (98%)]\tLoss: 0.140200\tLoss(dice): 0.079554\n",
      "Train Epoch: 3 [8560/8640 (99%)]\tLoss: 0.122092\tLoss(dice): 0.086362\n",
      "Validation\tLoss: 0.108569\tLoss(dice): 0.080620\n",
      "Train Epoch: 4 [0/8640 (0%)]\tLoss: 0.130127\tLoss(dice): 0.080922\n",
      "Train Epoch: 4 [80/8640 (1%)]\tLoss: 0.133157\tLoss(dice): 0.074540\n",
      "Train Epoch: 4 [160/8640 (2%)]\tLoss: 0.101904\tLoss(dice): 0.077134\n",
      "Train Epoch: 4 [240/8640 (3%)]\tLoss: 0.116272\tLoss(dice): 0.088334\n",
      "Train Epoch: 4 [320/8640 (4%)]\tLoss: 0.115706\tLoss(dice): 0.074795\n",
      "Train Epoch: 4 [400/8640 (5%)]\tLoss: 0.105486\tLoss(dice): 0.086506\n",
      "Train Epoch: 4 [480/8640 (6%)]\tLoss: 0.126164\tLoss(dice): 0.080203\n",
      "Train Epoch: 4 [560/8640 (6%)]\tLoss: 0.083984\tLoss(dice): 0.072732\n",
      "Train Epoch: 4 [640/8640 (7%)]\tLoss: 0.114050\tLoss(dice): 0.091952\n",
      "Train Epoch: 4 [720/8640 (8%)]\tLoss: 0.096544\tLoss(dice): 0.079875\n",
      "Train Epoch: 4 [800/8640 (9%)]\tLoss: 0.116708\tLoss(dice): 0.074397\n",
      "Train Epoch: 4 [880/8640 (10%)]\tLoss: 0.043667\tLoss(dice): 0.091289\n",
      "Train Epoch: 4 [960/8640 (11%)]\tLoss: 0.121120\tLoss(dice): 0.078447\n",
      "Train Epoch: 4 [1040/8640 (12%)]\tLoss: 0.119298\tLoss(dice): 0.096005\n",
      "Train Epoch: 4 [1120/8640 (13%)]\tLoss: 0.125660\tLoss(dice): 0.078768\n",
      "Train Epoch: 4 [1200/8640 (14%)]\tLoss: 0.128673\tLoss(dice): 0.072457\n",
      "Train Epoch: 4 [1280/8640 (15%)]\tLoss: 0.131142\tLoss(dice): 0.073252\n",
      "Train Epoch: 4 [1360/8640 (16%)]\tLoss: 0.106716\tLoss(dice): 0.074113\n",
      "Train Epoch: 4 [1440/8640 (17%)]\tLoss: 0.123891\tLoss(dice): 0.081414\n",
      "Train Epoch: 4 [1520/8640 (18%)]\tLoss: 0.103226\tLoss(dice): 0.077353\n",
      "Train Epoch: 4 [1600/8640 (19%)]\tLoss: 0.106313\tLoss(dice): 0.071320\n",
      "Train Epoch: 4 [1680/8640 (19%)]\tLoss: 0.102980\tLoss(dice): 0.067927\n",
      "Train Epoch: 4 [1760/8640 (20%)]\tLoss: 0.129995\tLoss(dice): 0.075366\n",
      "Train Epoch: 4 [1840/8640 (21%)]\tLoss: 0.102179\tLoss(dice): 0.072507\n",
      "Train Epoch: 4 [1920/8640 (22%)]\tLoss: 0.117509\tLoss(dice): 0.074175\n",
      "Train Epoch: 4 [2000/8640 (23%)]\tLoss: 0.101868\tLoss(dice): 0.089567\n",
      "Train Epoch: 4 [2080/8640 (24%)]\tLoss: 0.126488\tLoss(dice): 0.082884\n",
      "Train Epoch: 4 [2160/8640 (25%)]\tLoss: 0.128038\tLoss(dice): 0.076772\n",
      "Train Epoch: 4 [2240/8640 (26%)]\tLoss: 0.121565\tLoss(dice): 0.079479\n",
      "Train Epoch: 4 [2320/8640 (27%)]\tLoss: 0.093693\tLoss(dice): 0.073552\n",
      "Train Epoch: 4 [2400/8640 (28%)]\tLoss: 0.097566\tLoss(dice): 0.073982\n",
      "Train Epoch: 4 [2480/8640 (29%)]\tLoss: 0.139967\tLoss(dice): 0.073069\n",
      "Train Epoch: 4 [2560/8640 (30%)]\tLoss: 0.120269\tLoss(dice): 0.075959\n",
      "Train Epoch: 4 [2640/8640 (31%)]\tLoss: 0.113913\tLoss(dice): 0.067659\n",
      "Train Epoch: 4 [2720/8640 (31%)]\tLoss: 0.113938\tLoss(dice): 0.086417\n",
      "Train Epoch: 4 [2800/8640 (32%)]\tLoss: 0.105584\tLoss(dice): 0.081372\n",
      "Train Epoch: 4 [2880/8640 (33%)]\tLoss: 0.112475\tLoss(dice): 0.082950\n",
      "Train Epoch: 4 [2960/8640 (34%)]\tLoss: 0.090572\tLoss(dice): 0.076880\n",
      "Train Epoch: 4 [3040/8640 (35%)]\tLoss: 0.078548\tLoss(dice): 0.079043\n",
      "Train Epoch: 4 [3120/8640 (36%)]\tLoss: 0.092583\tLoss(dice): 0.074681\n",
      "Train Epoch: 4 [3200/8640 (37%)]\tLoss: 0.094405\tLoss(dice): 0.071742\n",
      "Train Epoch: 4 [3280/8640 (38%)]\tLoss: 0.084491\tLoss(dice): 0.084889\n",
      "Train Epoch: 4 [3360/8640 (39%)]\tLoss: 0.083718\tLoss(dice): 0.081719\n",
      "Train Epoch: 4 [3440/8640 (40%)]\tLoss: 0.081260\tLoss(dice): 0.070762\n",
      "Train Epoch: 4 [3520/8640 (41%)]\tLoss: 0.133635\tLoss(dice): 0.078687\n",
      "Train Epoch: 4 [3600/8640 (42%)]\tLoss: 0.097848\tLoss(dice): 0.083058\n",
      "Train Epoch: 4 [3680/8640 (43%)]\tLoss: 0.112934\tLoss(dice): 0.073306\n",
      "Train Epoch: 4 [3760/8640 (44%)]\tLoss: 0.112049\tLoss(dice): 0.071718\n",
      "Train Epoch: 4 [3840/8640 (44%)]\tLoss: 0.107375\tLoss(dice): 0.083650\n",
      "Train Epoch: 4 [3920/8640 (45%)]\tLoss: 0.102408\tLoss(dice): 0.073810\n",
      "Train Epoch: 4 [4000/8640 (46%)]\tLoss: 0.093215\tLoss(dice): 0.084505\n",
      "Train Epoch: 4 [4080/8640 (47%)]\tLoss: 0.105842\tLoss(dice): 0.077842\n",
      "Train Epoch: 4 [4160/8640 (48%)]\tLoss: 0.109652\tLoss(dice): 0.077592\n",
      "Train Epoch: 4 [4240/8640 (49%)]\tLoss: 0.042134\tLoss(dice): 0.103676\n",
      "Train Epoch: 4 [4320/8640 (50%)]\tLoss: 0.090425\tLoss(dice): 0.089579\n",
      "Train Epoch: 4 [4400/8640 (51%)]\tLoss: 0.099317\tLoss(dice): 0.073661\n",
      "Train Epoch: 4 [4480/8640 (52%)]\tLoss: 0.131477\tLoss(dice): 0.071130\n",
      "Train Epoch: 4 [4560/8640 (53%)]\tLoss: 0.084337\tLoss(dice): 0.076373\n",
      "Train Epoch: 4 [4640/8640 (54%)]\tLoss: 0.112157\tLoss(dice): 0.072803\n",
      "Train Epoch: 4 [4720/8640 (55%)]\tLoss: 0.123138\tLoss(dice): 0.082408\n",
      "Train Epoch: 4 [4800/8640 (56%)]\tLoss: 0.107324\tLoss(dice): 0.070257\n",
      "Train Epoch: 4 [4880/8640 (56%)]\tLoss: 0.124507\tLoss(dice): 0.079272\n",
      "Train Epoch: 4 [4960/8640 (57%)]\tLoss: 0.095740\tLoss(dice): 0.069243\n",
      "Train Epoch: 4 [5040/8640 (58%)]\tLoss: 0.085157\tLoss(dice): 0.081386\n",
      "Train Epoch: 4 [5120/8640 (59%)]\tLoss: 0.048092\tLoss(dice): 0.075593\n",
      "Train Epoch: 4 [5200/8640 (60%)]\tLoss: 0.088899\tLoss(dice): 0.076277\n",
      "Train Epoch: 4 [5280/8640 (61%)]\tLoss: 0.061858\tLoss(dice): 0.075465\n",
      "Train Epoch: 4 [5360/8640 (62%)]\tLoss: 0.117282\tLoss(dice): 0.071177\n",
      "Train Epoch: 4 [5440/8640 (63%)]\tLoss: 0.114687\tLoss(dice): 0.081968\n",
      "Train Epoch: 4 [5520/8640 (64%)]\tLoss: 0.106992\tLoss(dice): 0.079188\n",
      "Train Epoch: 4 [5600/8640 (65%)]\tLoss: 0.071601\tLoss(dice): 0.088135\n",
      "Train Epoch: 4 [5680/8640 (66%)]\tLoss: 0.120196\tLoss(dice): 0.082624\n",
      "Train Epoch: 4 [5760/8640 (67%)]\tLoss: 0.054817\tLoss(dice): 0.085927\n",
      "Train Epoch: 4 [5840/8640 (68%)]\tLoss: 0.074238\tLoss(dice): 0.072524\n",
      "Train Epoch: 4 [5920/8640 (69%)]\tLoss: 0.098637\tLoss(dice): 0.078402\n",
      "Train Epoch: 4 [6000/8640 (69%)]\tLoss: 0.113043\tLoss(dice): 0.074463\n",
      "Train Epoch: 4 [6080/8640 (70%)]\tLoss: 0.119402\tLoss(dice): 0.077370\n",
      "Train Epoch: 4 [6160/8640 (71%)]\tLoss: 0.092064\tLoss(dice): 0.065907\n",
      "Train Epoch: 4 [6240/8640 (72%)]\tLoss: 0.070744\tLoss(dice): 0.073516\n",
      "Train Epoch: 4 [6320/8640 (73%)]\tLoss: 0.096801\tLoss(dice): 0.070293\n",
      "Train Epoch: 4 [6400/8640 (74%)]\tLoss: 0.079076\tLoss(dice): 0.070296\n",
      "Train Epoch: 4 [6480/8640 (75%)]\tLoss: 0.076925\tLoss(dice): 0.073157\n",
      "Train Epoch: 4 [6560/8640 (76%)]\tLoss: 0.078504\tLoss(dice): 0.074685\n",
      "Train Epoch: 4 [6640/8640 (77%)]\tLoss: 0.108273\tLoss(dice): 0.080113\n",
      "Train Epoch: 4 [6720/8640 (78%)]\tLoss: 0.104011\tLoss(dice): 0.065713\n",
      "Train Epoch: 4 [6800/8640 (79%)]\tLoss: 0.092108\tLoss(dice): 0.082754\n",
      "Train Epoch: 4 [6880/8640 (80%)]\tLoss: 0.078552\tLoss(dice): 0.077317\n",
      "Train Epoch: 4 [6960/8640 (81%)]\tLoss: 0.105598\tLoss(dice): 0.079656\n",
      "Train Epoch: 4 [7040/8640 (81%)]\tLoss: 0.087514\tLoss(dice): 0.069561\n",
      "Train Epoch: 4 [7120/8640 (82%)]\tLoss: 0.123843\tLoss(dice): 0.073519\n",
      "Train Epoch: 4 [7200/8640 (83%)]\tLoss: 0.111681\tLoss(dice): 0.072486\n",
      "Train Epoch: 4 [7280/8640 (84%)]\tLoss: 0.080851\tLoss(dice): 0.079585\n",
      "Train Epoch: 4 [7360/8640 (85%)]\tLoss: 0.097642\tLoss(dice): 0.082190\n",
      "Train Epoch: 4 [7440/8640 (86%)]\tLoss: 0.138108\tLoss(dice): 0.071847\n",
      "Train Epoch: 4 [7520/8640 (87%)]\tLoss: 0.080560\tLoss(dice): 0.069875\n",
      "Train Epoch: 4 [7600/8640 (88%)]\tLoss: 0.069424\tLoss(dice): 0.079168\n",
      "Train Epoch: 4 [7680/8640 (89%)]\tLoss: 0.086653\tLoss(dice): 0.074452\n",
      "Train Epoch: 4 [7760/8640 (90%)]\tLoss: 0.080601\tLoss(dice): 0.071617\n",
      "Train Epoch: 4 [7840/8640 (91%)]\tLoss: 0.089925\tLoss(dice): 0.065921\n",
      "Train Epoch: 4 [7920/8640 (92%)]\tLoss: 0.098907\tLoss(dice): 0.064606\n",
      "Train Epoch: 4 [8000/8640 (93%)]\tLoss: 0.056858\tLoss(dice): 0.077678\n",
      "Train Epoch: 4 [8080/8640 (94%)]\tLoss: 0.111906\tLoss(dice): 0.073911\n",
      "Train Epoch: 4 [8160/8640 (94%)]\tLoss: 0.087078\tLoss(dice): 0.073947\n",
      "Train Epoch: 4 [8240/8640 (95%)]\tLoss: 0.096361\tLoss(dice): 0.080448\n",
      "Train Epoch: 4 [8320/8640 (96%)]\tLoss: 0.092492\tLoss(dice): 0.071355\n",
      "Train Epoch: 4 [8400/8640 (97%)]\tLoss: 0.127885\tLoss(dice): 0.066837\n",
      "Train Epoch: 4 [8480/8640 (98%)]\tLoss: 0.105289\tLoss(dice): 0.068587\n",
      "Train Epoch: 4 [8560/8640 (99%)]\tLoss: 0.100584\tLoss(dice): 0.067314\n",
      "Validation\tLoss: 0.100517\tLoss(dice): 0.074621\n"
     ]
    }
   ],
   "source": [
    "# Start training\n",
    "train_losses, val_losses = [], []\n",
    "epochs = 5\n",
    "for epoch in range(1, epochs):\n",
    "    train(epoch)\n",
    "    validate()"
   ]
  },
  {
   "cell_type": "code",
   "execution_count": 37,
   "metadata": {
    "colab": {
     "autoexec": {
      "startup": false,
      "wait_interval": 0
     },
     "base_uri": "https://localhost:8080/",
     "height": 279,
     "output_extras": [
      {
       "item_id": 1
      }
     ]
    },
    "colab_type": "code",
    "collapsed": false,
    "executionInfo": {
     "elapsed": 948,
     "status": "ok",
     "timestamp": 1521641414382,
     "user": {
      "displayName": "Piotr Bialecki",
      "photoUrl": "https://lh3.googleusercontent.com/a/default-user=s128",
      "userId": "111001492818559627356"
     },
     "user_tz": -60
    },
    "id": "XGGeQFzUy0UG",
    "outputId": "56860963-9e75-4d8d-e690-355a02de2b76"
   },
   "outputs": [
    {
     "data": {
      "image/png": "[encoded data removed]",
      "text/plain": [
       "<matplotlib.figure.Figure at 0x7faa986b30f0>"
      ]
     },
     "metadata": {
      "tags": []
     },
     "output_type": "display_data"
    }
   ],
   "source": [
    "train_losses = np.array(train_losses)\n",
    "val_losses = np.array(val_losses)\n",
    "\n",
    "val_indices = np.linspace(0, (epochs-1)*len(train_loader)/print_steps, epochs-1)\n",
    "\n",
    "plt.plot(train_losses, '-', label='train loss')\n",
    "plt.plot(val_indices, val_losses, '--', label='val loss')\n",
    "plt.yscale(\"log\", nonposy='clip')\n",
    "plt.xlabel('Iterations')\n",
    "plt.ylabel('BCELoss')\n",
    "plt.legend()\n",
    "plt.show()"
   ]
  },
  {
   "cell_type": "code",
   "execution_count": 42,
   "metadata": {
    "colab": {
     "autoexec": {
      "startup": false,
      "wait_interval": 0
     },
     "base_uri": "https://localhost:8080/",
     "height": 196,
     "output_extras": [
      {
       "item_id": 1
      },
      {
       "item_id": 2
      }
     ]
    },
    "colab_type": "code",
    "collapsed": false,
    "executionInfo": {
     "elapsed": 804,
     "status": "ok",
     "timestamp": 1521641597972,
     "user": {
      "displayName": "Piotr Bialecki",
      "photoUrl": "https://lh3.googleusercontent.com/a/default-user=s128",
      "userId": "111001492818559627356"
     },
     "user_tz": -60
    },
    "id": "rai16gzYy0Uc",
    "outputId": "b86d5aa1-e8d9-47c2-fb99-54fca41f3b1d"
   },
   "outputs": [
    {
     "name": "stderr",
     "output_type": "stream",
     "text": [
      "/usr/local/lib/python3.6/dist-packages/matplotlib/figure.py:418: UserWarning: matplotlib is currently using a non-GUI backend, so cannot show the figure\n",
      "  \"matplotlib is currently using a non-GUI backend, \"\n"
     ]
    },
    {
     "data": {
      "image/png": "[encoded data removed]",
      "text/plain": [
       "<matplotlib.figure.Figure at 0x7faa9365cdd8>"
      ]
     },
     "metadata": {
      "tags": []
     },
     "output_type": "display_data"
    }
   ],
   "source": [
    "val_data, val_target = get_random_sample(val_dataset)\n",
    "\n",
    "val_pred = model(val_data)\n",
    "val_pred_arr = val_pred.data.cpu().squeeze_().numpy()\n",
    "val_target_arr = val_target.data.cpu().squeeze_().numpy()\n",
    "\n",
    "fig, (ax1, ax2, ax3) = plt.subplots(1, 3)\n",
    "ax1.imshow(val_pred_arr, cmap='viridis')\n",
    "ax1.set_title('Prediction')\n",
    "ax2.imshow(val_target_arr, cmap='viridis')\n",
    "ax2.set_title('Target')\n",
    "ax3.imshow(np.abs(val_pred_arr - val_target_arr), cmap='viridis')\n",
    "ax3.set_title('Absolute error')"
   ]
  },
  {
   "cell_type": "code",
   "execution_count": 0,
   "metadata": {
    "colab": {
     "autoexec": {
      "startup": false,
      "wait_interval": 0
     }
    },
    "colab_type": "code",
    "collapsed": true,
    "id": "1u34LcBFy0VI"
   },
   "outputs": [],
   "source": []
  }
 ],
 "metadata": {
  "accelerator": "GPU",
  "colab": {
   "collapsed_sections": [],
   "default_view": {},
   "name": "section1_6.ipynb",
   "provenance": [],
   "version": "0.3.2",
   "views": {}
  },
  "kernelspec": {
   "display_name": "Python 3",
   "name": "python3"
  }
 },
 "nbformat": 4,
 "nbformat_minor": 0
}
