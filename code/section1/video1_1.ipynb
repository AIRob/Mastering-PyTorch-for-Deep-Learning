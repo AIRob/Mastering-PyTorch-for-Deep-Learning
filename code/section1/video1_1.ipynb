{
 "cells": [
  {
   "cell_type": "markdown",
   "metadata": {},
   "source": [
    "# Mastering PyTorch\n",
    "\n",
    "## Supervised learning\n",
    "\n",
    "### Powerful PyTorch\n",
    "\n",
    "#### Accompanying notebook to Video 1.1"
   ]
  },
  {
   "cell_type": "code",
   "execution_count": null,
   "metadata": {
    "collapsed": true
   },
   "outputs": [],
   "source": [
    "# Import libs\n",
    "from __future__ import print_function\n",
    "\n",
    "import torch\n",
    "import torch.nn as nn\n",
    "import torch.optim as optim\n",
    "from torch.autograd import Variable\n",
    "import torch.nn.functional as F\n",
    "from torch.utils.data import Dataset, DataLoader\n",
    "\n",
    "import random\n",
    "import time"
   ]
  },
  {
   "cell_type": "code",
   "execution_count": null,
   "metadata": {
    "collapsed": true
   },
   "outputs": [],
   "source": [
    "# Setup globals\n",
    "batch_size = 1\n",
    "in_features = 10\n",
    "hidden = 20\n",
    "out_features = 1"
   ]
  },
  {
   "cell_type": "code",
   "execution_count": null,
   "metadata": {
    "collapsed": false
   },
   "outputs": [],
   "source": [
    "# Sequential API example\n",
    "# Create model\n",
    "model = nn.Sequential(\n",
    "    nn.Linear(in_features, hidden),\n",
    "    nn.ReLU(),\n",
    "    nn.Linear(hidden, out_features)\n",
    ")\n",
    "print(model)"
   ]
  },
  {
   "cell_type": "code",
   "execution_count": null,
   "metadata": {
    "collapsed": false
   },
   "outputs": [],
   "source": [
    "# Create dummy input\n",
    "x = Variable(torch.randn(batch_size, in_features))\n",
    "# Run forward pass\n",
    "output = model(x)\n",
    "print(output)"
   ]
  },
  {
   "cell_type": "code",
   "execution_count": null,
   "metadata": {
    "collapsed": false
   },
   "outputs": [],
   "source": [
    "# Functional API example\n",
    "# Create model\n",
    "class CustomNet(nn.Module):\n",
    "    def __init__(self, in_features, hidden, out_features):\n",
    "        \"\"\"\n",
    "        Create three linear layers\n",
    "        \"\"\"\n",
    "        super(CustomNet, self).__init__()\n",
    "        self.linear1 = nn.Linear(in_features, hidden)\n",
    "        self.linear2 = nn.Linear(hidden, hidden)\n",
    "        self.linear3 = nn.Linear(hidden, out_features)\n",
    "\n",
    "    def forward(self, x):\n",
    "        \"\"\"\n",
    "        Draw a random number from [0, 10]. \n",
    "        If it's 0, skip the second layer. Otherwise loop it!\n",
    "        \"\"\"\n",
    "        x = F.relu(self.linear1(x))\n",
    "        while random.randint(0, 10) != 0: \n",
    "        #while x.norm() > 2:\n",
    "            print('2nd layer used')\n",
    "            x = F.relu(self.linear2(x))\n",
    "        x = self.linear3(x)\n",
    "        return x\n",
    "\n",
    "custom_model = CustomNet(in_features, hidden, out_features)\n",
    "print(custom_model)"
   ]
  },
  {
   "cell_type": "code",
   "execution_count": null,
   "metadata": {
    "collapsed": false
   },
   "outputs": [],
   "source": [
    "# Run forward pass with same dummy variable\n",
    "output = custom_model(x)\n",
    "print(output)"
   ]
  },
  {
   "cell_type": "code",
   "execution_count": null,
   "metadata": {
    "collapsed": true
   },
   "outputs": [],
   "source": [
    "# ConvNet example"
   ]
  },
  {
   "cell_type": "markdown",
   "metadata": {},
   "source": [
    "![ConvNet](images/conv_functional2.png)"
   ]
  },
  {
   "cell_type": "code",
   "execution_count": null,
   "metadata": {
    "collapsed": true
   },
   "outputs": [],
   "source": [
    "# Debug example\n",
    "# Create Convnet\n",
    "class ConvNet(nn.Module):\n",
    "    def __init__(self, in_channels, hidden, out_features):\n",
    "        \"\"\"\n",
    "        Create ConvNet with two parallel convolutions\n",
    "        \"\"\"\n",
    "        super(ConvNet, self).__init__()\n",
    "        self.conv1_1 = nn.Conv2d(in_channels=in_channels,\n",
    "                                 out_channels=10,\n",
    "                                 kernel_size=3,\n",
    "                                 padding=1)\n",
    "        self.conv1_2 = nn.Conv2d(in_channels=in_channels,\n",
    "                                 out_channels=10,\n",
    "                                 kernel_size=3,\n",
    "                                 padding=1)\n",
    "        self.conv2 = nn.Conv2d(in_channels=20,\n",
    "                               out_channels=1,\n",
    "                               kernel_size=3,\n",
    "                               padding=1)\n",
    "        self.linear1 = nn.Linear(hidden, out_features)\n",
    "\n",
    "    def forward(self, x):\n",
    "        \"\"\"\n",
    "        Pass input through both ConvLayers and stack them afterwards\n",
    "        \"\"\"\n",
    "        x1 = F.relu(self.conv1_1(x))\n",
    "        x2 = F.relu(self.conv1_2(x))\n",
    "        x = torch.cat((x1, x2), dim=1)\n",
    "        x = self.conv2(x)\n",
    "        print('x size (after conv2): {}'.format(x.shape))\n",
    "        x = x.view(x.size(0), -1)\n",
    "        x = self.linear1(x)\n",
    "        return x\n",
    "    \n",
    "conv_model = ConvNet(in_channels=3, hidden=576, out_features=out_features)\n",
    "# Create dummy input\n",
    "x_conv = Variable(torch.randn(batch_size, 3, 24, 24))"
   ]
  },
  {
   "cell_type": "code",
   "execution_count": null,
   "metadata": {
    "collapsed": false
   },
   "outputs": [],
   "source": [
    "# Run forward pass\n",
    "output = conv_model(x_conv)\n",
    "print(output)"
   ]
  },
  {
   "cell_type": "code",
   "execution_count": null,
   "metadata": {
    "collapsed": false
   },
   "outputs": [],
   "source": [
    "## Dataset / DataLoader example\n",
    "# Create a random Dataset\n",
    "class RandomDataset(Dataset):\n",
    "    def __init__(self, nb_samples, consume_time=False):\n",
    "        self.data = torch.randn(nb_samples, in_features)\n",
    "        self.target = torch.randn(nb_samples, out_features)\n",
    "        self.consume_time=consume_time\n",
    "\n",
    "    def __getitem__(self, index):\n",
    "        x = self.data[index]\n",
    "        y = self.target[index]\n",
    "\n",
    "        # Transform data\n",
    "        x = x + torch.FloatTensor(x.shape).normal_() * 1e-2\n",
    "        \n",
    "        if self.consume_time:\n",
    "            # Do some time consuming operation\n",
    "            for i in xrange(5000000):\n",
    "                j = i + 1\n",
    "\n",
    "        return x, y\n",
    "\n",
    "    def __len__(self):\n",
    "        return len(self.data)"
   ]
  },
  {
   "cell_type": "code",
   "execution_count": null,
   "metadata": {
    "collapsed": false
   },
   "outputs": [],
   "source": [
    "# Training loop\n",
    "criterion = nn.MSELoss()\n",
    "optimizer = optim.Adam(model.parameters(), lr=1e-2)\n",
    "def train(loader):\n",
    "    for batch_idx, (data, target) in enumerate(loader):\n",
    "        # Wrap data and target into a Variable\n",
    "        data, target = Variable(data), Variable(target)\n",
    "\n",
    "        # Clear gradients\n",
    "        optimizer.zero_grad()\n",
    "\n",
    "        # Forward pass\n",
    "        output = model(data)\n",
    "\n",
    "        # Calculate loss\n",
    "        loss = criterion(output, target)\n",
    "\n",
    "        # Backward pass\n",
    "        loss.backward()\n",
    "\n",
    "        # Weight update\n",
    "        optimizer.step()\n",
    "\n",
    "        print('Batch {}\\tLoss {}'.format(batch_idx, loss.data.numpy()[0]))"
   ]
  },
  {
   "cell_type": "code",
   "execution_count": null,
   "metadata": {
    "collapsed": true
   },
   "outputs": [],
   "source": [
    "# Create Dataset\n",
    "data = RandomDataset(nb_samples=30)\n",
    "# Create DataLoader\n",
    "loader = DataLoader(dataset=data,\n",
    "                    batch_size=batch_size,\n",
    "                    num_workers=0,\n",
    "                    shuffle=True)"
   ]
  },
  {
   "cell_type": "code",
   "execution_count": null,
   "metadata": {
    "collapsed": false
   },
   "outputs": [],
   "source": [
    "# Start training\n",
    "t0 = time.time()\n",
    "train(loader)\n",
    "time_fast = time.time() - t0\n",
    "print('Training finished in {:.2f} seconds'.format(time_fast))"
   ]
  },
  {
   "cell_type": "code",
   "execution_count": null,
   "metadata": {
    "collapsed": false
   },
   "outputs": [],
   "source": [
    "# Create time consuming Dataset\n",
    "data_slow = RandomDataset(nb_samples=30, consume_time=True)\n",
    "loader_slow = DataLoader(dataset=data_slow,\n",
    "                         batch_size=batch_size,\n",
    "                         num_workers=0,\n",
    "                         shuffle=True)\n",
    "# Start training\n",
    "t0 = time.time()\n",
    "train(loader_slow)\n",
    "time_slow = time.time() - t0\n",
    "print('Training finished in {:.2f} seconds'.format(time_slow))"
   ]
  },
  {
   "cell_type": "code",
   "execution_count": null,
   "metadata": {
    "collapsed": false
   },
   "outputs": [],
   "source": [
    "loader_slow_multi_proc = DataLoader(dataset=data_slow,\n",
    "                                    batch_size=batch_size,\n",
    "                                    num_workers=4,\n",
    "                                    shuffle=True)\n",
    "# Start training\n",
    "t0 = time.time()\n",
    "train(loader_slow_multi_proc)\n",
    "time_multi_proc = time.time() - t0\n",
    "print('Training finished in {:.2f} seconds'.format(time_multi_proc))"
   ]
  }
 ],
 "metadata": {
  "kernelspec": {
   "display_name": "Python 2",
   "language": "python",
   "name": "python2"
  },
  "language_info": {
   "codemirror_mode": {
    "name": "ipython",
    "version": 2
   },
   "file_extension": ".py",
   "mimetype": "text/x-python",
   "name": "python",
   "nbconvert_exporter": "python",
   "pygments_lexer": "ipython2",
   "version": "2.7.13"
  }
 },
 "nbformat": 4,
 "nbformat_minor": 2
}
